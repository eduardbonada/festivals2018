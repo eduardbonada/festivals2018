{
 "cells": [
  {
   "cell_type": "code",
   "execution_count": 1,
   "metadata": {},
   "outputs": [],
   "source": [
    "import pandas as pd\n",
    "import json\n",
    "from pprint import pprint\n",
    "import matplotlib.pyplot as plt\n",
    "%matplotlib inline"
   ]
  },
  {
   "cell_type": "markdown",
   "metadata": {},
   "source": [
    "## Load data"
   ]
  },
  {
   "cell_type": "code",
   "execution_count": 2,
   "metadata": {},
   "outputs": [],
   "source": [
    "# load festivals data\n",
    "festivals_raw = json.load(open('all_festival_bands_2017.json'))"
   ]
  },
  {
   "cell_type": "code",
   "execution_count": 3,
   "metadata": {},
   "outputs": [
    {
     "data": {
      "text/html": [
       "<div>\n",
       "<style scoped>\n",
       "    .dataframe tbody tr th:only-of-type {\n",
       "        vertical-align: middle;\n",
       "    }\n",
       "\n",
       "    .dataframe tbody tr th {\n",
       "        vertical-align: top;\n",
       "    }\n",
       "\n",
       "    .dataframe thead th {\n",
       "        text-align: right;\n",
       "    }\n",
       "</style>\n",
       "<table border=\"1\" class=\"dataframe\">\n",
       "  <thead>\n",
       "    <tr style=\"text-align: right;\">\n",
       "      <th></th>\n",
       "      <th>band</th>\n",
       "      <th>festival</th>\n",
       "      <th>followers</th>\n",
       "      <th>genres</th>\n",
       "      <th>popularity</th>\n",
       "    </tr>\n",
       "  </thead>\n",
       "  <tbody>\n",
       "    <tr>\n",
       "      <th>0</th>\n",
       "      <td>SFDK</td>\n",
       "      <td>al_rumbo</td>\n",
       "      <td>151813</td>\n",
       "      <td>[deep latin hip hop, latin hip hop, spanish hi...</td>\n",
       "      <td>54</td>\n",
       "    </tr>\n",
       "    <tr>\n",
       "      <th>1</th>\n",
       "      <td>Mala Rodríguez</td>\n",
       "      <td>al_rumbo</td>\n",
       "      <td>100795</td>\n",
       "      <td>[deep latin hip hop, flamenco, latin alternati...</td>\n",
       "      <td>51</td>\n",
       "    </tr>\n",
       "    <tr>\n",
       "      <th>2</th>\n",
       "      <td>Estricnina</td>\n",
       "      <td>al_rumbo</td>\n",
       "      <td>6809</td>\n",
       "      <td>[spanish rock]</td>\n",
       "      <td>38</td>\n",
       "    </tr>\n",
       "    <tr>\n",
       "      <th>3</th>\n",
       "      <td>La Raíz</td>\n",
       "      <td>al_rumbo</td>\n",
       "      <td>73371</td>\n",
       "      <td>[spanish punk, spanish rock]</td>\n",
       "      <td>54</td>\n",
       "    </tr>\n",
       "    <tr>\n",
       "      <th>4</th>\n",
       "      <td>La Pegatina</td>\n",
       "      <td>al_rumbo</td>\n",
       "      <td>105792</td>\n",
       "      <td>[spanish pop, spanish punk, spanish rock]</td>\n",
       "      <td>51</td>\n",
       "    </tr>\n",
       "  </tbody>\n",
       "</table>\n",
       "</div>"
      ],
      "text/plain": [
       "             band  festival  followers  \\\n",
       "0            SFDK  al_rumbo     151813   \n",
       "1  Mala Rodríguez  al_rumbo     100795   \n",
       "2      Estricnina  al_rumbo       6809   \n",
       "3         La Raíz  al_rumbo      73371   \n",
       "4     La Pegatina  al_rumbo     105792   \n",
       "\n",
       "                                              genres  popularity  \n",
       "0  [deep latin hip hop, latin hip hop, spanish hi...          54  \n",
       "1  [deep latin hip hop, flamenco, latin alternati...          51  \n",
       "2                                     [spanish rock]          38  \n",
       "3                       [spanish punk, spanish rock]          54  \n",
       "4          [spanish pop, spanish punk, spanish rock]          51  "
      ]
     },
     "execution_count": 3,
     "metadata": {},
     "output_type": "execute_result"
    }
   ],
   "source": [
    "# extract genres (and other info) of bands in festivals\n",
    "bands_list = []\n",
    "for f in festivals_raw:\n",
    "    for b in f['bands']:\n",
    "        #print('{} - {} - {} - {} - {}'.format(f['name'], b['name'], b['popularity'], b['followers']['total'], b['genres']))\n",
    "        bands_list.append({'festival': f['name'], \n",
    "                      'band' : b['name'], \n",
    "                      'popularity': b['popularity'], \n",
    "                      'followers' : b['followers']['total'], \n",
    "                      'genres' : b['genres']})\n",
    "\n",
    "# convert to pandas DF\n",
    "bands = pd.DataFrame.from_dict(bands_list)\n",
    "bands.head()"
   ]
  },
  {
   "cell_type": "markdown",
   "metadata": {},
   "source": [
    "## Explore genres"
   ]
  },
  {
   "cell_type": "code",
   "execution_count": 4,
   "metadata": {},
   "outputs": [
    {
     "name": "stdout",
     "output_type": "stream",
     "text": [
      "Total number of different genres: 479\n"
     ]
    }
   ],
   "source": [
    "# Number of different genres\n",
    "all_unqiue_genres = set(bands['genres'].sum())\n",
    "print('Total number of different genres: {}'.format(len(all_unqiue_genres)))"
   ]
  },
  {
   "cell_type": "code",
   "execution_count": 5,
   "metadata": {},
   "outputs": [
    {
     "data": {
      "text/plain": [
       "array([[<matplotlib.axes._subplots.AxesSubplot object at 0x7f5c95025f28>]],\n",
       "      dtype=object)"
      ]
     },
     "execution_count": 5,
     "metadata": {},
     "output_type": "execute_result"
    },
    {
     "data": {
      "image/png": "[encoded data removed]",
      "text/plain": [
       "<Figure size 432x288 with 1 Axes>"
      ]
     },
     "metadata": {},
     "output_type": "display_data"
    }
   ],
   "source": [
    "# Distribution of number of genres per band\n",
    "bands['num_genres'] = bands['genres'].apply(lambda x: len(x))\n",
    "bands.hist(column='num_genres', bins=30)\n",
    "#for ng in range(0,11):\n",
    "#    print('Bands with {} genres: {}'.format(ng, len(festivals_list[festivals_list['num_genres'] == ng])))"
   ]
  },
  {
   "cell_type": "code",
   "execution_count": 6,
   "metadata": {},
   "outputs": [
    {
     "data": {
      "text/plain": [
       "<matplotlib.axes._subplots.AxesSubplot at 0x7f5c670a8400>"
      ]
     },
     "execution_count": 6,
     "metadata": {},
     "output_type": "execute_result"
    },
    {
     "data": {
      "image/png": "[encoded data removed]",
      "text/plain": [
       "<Figure size 1440x360 with 1 Axes>"
      ]
     },
     "metadata": {},
     "output_type": "display_data"
    }
   ],
   "source": [
    "# Most common genres\n",
    "all_genres = bands['genres'].sum()\n",
    "\n",
    "from collections import Counter\n",
    "genres_counts = Counter(all_genres)\n",
    "gc_df = (pd.DataFrame.from_dict(genres_counts, orient='index'))\n",
    "gc_df.columns=['count']\n",
    "gc_df.sort_values(by='count',ascending=False).head(50).plot(kind='bar', figsize=(20,5))"
   ]
  },
  {
   "cell_type": "markdown",
   "metadata": {},
   "source": [
    "## Vectorize list of genres to binary dimensions"
   ]
  },
  {
   "cell_type": "code",
   "execution_count": 7,
   "metadata": {},
   "outputs": [],
   "source": [
    "# https://stackoverflow.com/questions/32387266/converting-categorical-values-to-binary-using-pandas\n",
    "# https://stackoverflow.com/questions/40213177/pandas-convert-multiple-categories-to-dummies"
   ]
  },
  {
   "cell_type": "code",
   "execution_count": 95,
   "metadata": {},
   "outputs": [],
   "source": [
    "# choose festivals to analyze\n",
    "festivals_names = ['bbk','al_rumbo','cruilla','sonar']\n",
    "festivals_colors = ['r','g','b','k']\n",
    "#set(bands['festival'])"
   ]
  },
  {
   "cell_type": "code",
   "execution_count": 96,
   "metadata": {},
   "outputs": [
    {
     "name": "stdout",
     "output_type": "stream",
     "text": [
      "150 bands in 4 festivals\n"
     ]
    },
    {
     "data": {
      "text/html": [
       "<div>\n",
       "<style scoped>\n",
       "    .dataframe tbody tr th:only-of-type {\n",
       "        vertical-align: middle;\n",
       "    }\n",
       "\n",
       "    .dataframe tbody tr th {\n",
       "        vertical-align: top;\n",
       "    }\n",
       "\n",
       "    .dataframe thead th {\n",
       "        text-align: right;\n",
       "    }\n",
       "</style>\n",
       "<table border=\"1\" class=\"dataframe\">\n",
       "  <thead>\n",
       "    <tr style=\"text-align: right;\">\n",
       "      <th></th>\n",
       "      <th>band</th>\n",
       "      <th>festival</th>\n",
       "      <th>followers</th>\n",
       "      <th>genres</th>\n",
       "      <th>popularity</th>\n",
       "      <th>num_genres</th>\n",
       "    </tr>\n",
       "  </thead>\n",
       "  <tbody>\n",
       "    <tr>\n",
       "      <th>0</th>\n",
       "      <td>SFDK</td>\n",
       "      <td>al_rumbo</td>\n",
       "      <td>151813</td>\n",
       "      <td>[deep latin hip hop, latin hip hop, spanish hi...</td>\n",
       "      <td>54</td>\n",
       "      <td>3</td>\n",
       "    </tr>\n",
       "    <tr>\n",
       "      <th>1</th>\n",
       "      <td>Mala Rodríguez</td>\n",
       "      <td>al_rumbo</td>\n",
       "      <td>100795</td>\n",
       "      <td>[deep latin hip hop, flamenco, latin alternati...</td>\n",
       "      <td>51</td>\n",
       "      <td>5</td>\n",
       "    </tr>\n",
       "    <tr>\n",
       "      <th>2</th>\n",
       "      <td>Estricnina</td>\n",
       "      <td>al_rumbo</td>\n",
       "      <td>6809</td>\n",
       "      <td>[spanish rock]</td>\n",
       "      <td>38</td>\n",
       "      <td>1</td>\n",
       "    </tr>\n",
       "    <tr>\n",
       "      <th>3</th>\n",
       "      <td>La Raíz</td>\n",
       "      <td>al_rumbo</td>\n",
       "      <td>73371</td>\n",
       "      <td>[spanish punk, spanish rock]</td>\n",
       "      <td>54</td>\n",
       "      <td>2</td>\n",
       "    </tr>\n",
       "    <tr>\n",
       "      <th>4</th>\n",
       "      <td>La Pegatina</td>\n",
       "      <td>al_rumbo</td>\n",
       "      <td>105792</td>\n",
       "      <td>[spanish pop, spanish punk, spanish rock]</td>\n",
       "      <td>51</td>\n",
       "      <td>3</td>\n",
       "    </tr>\n",
       "  </tbody>\n",
       "</table>\n",
       "</div>"
      ],
      "text/plain": [
       "             band  festival  followers  \\\n",
       "0            SFDK  al_rumbo     151813   \n",
       "1  Mala Rodríguez  al_rumbo     100795   \n",
       "2      Estricnina  al_rumbo       6809   \n",
       "3         La Raíz  al_rumbo      73371   \n",
       "4     La Pegatina  al_rumbo     105792   \n",
       "\n",
       "                                              genres  popularity  num_genres  \n",
       "0  [deep latin hip hop, latin hip hop, spanish hi...          54           3  \n",
       "1  [deep latin hip hop, flamenco, latin alternati...          51           5  \n",
       "2                                     [spanish rock]          38           1  \n",
       "3                       [spanish punk, spanish rock]          54           2  \n",
       "4          [spanish pop, spanish punk, spanish rock]          51           3  "
      ]
     },
     "execution_count": 96,
     "metadata": {},
     "output_type": "execute_result"
    }
   ],
   "source": [
    "# filter bands for the given festivals\n",
    "festivals_bands = bands[bands['festival'].isin(festivals_names)]\n",
    "festivals_bands = festivals_bands.reset_index(drop=True)\n",
    "print('{} bands in {} festivals'.format(len(festivals_bands), len(set(festivals_bands['festival']))))\n",
    "festivals_bands.head()"
   ]
  },
  {
   "cell_type": "code",
   "execution_count": 97,
   "metadata": {},
   "outputs": [],
   "source": [
    "# keep a list of unique genres for later use\n",
    "festivals_genres = list(set(festivals_bands['genres'].sum()))"
   ]
  },
  {
   "cell_type": "code",
   "execution_count": 98,
   "metadata": {
    "scrolled": true
   },
   "outputs": [],
   "source": [
    "# get binary vectorization of genres\n",
    "dummies = pd.get_dummies(pd.DataFrame(festivals_bands['genres'].values.tolist()), prefix_sep='', prefix='')"
   ]
  },
  {
   "cell_type": "code",
   "execution_count": 99,
   "metadata": {},
   "outputs": [],
   "source": [
    "# merge dummies to main festival bands dataframe\n",
    "festivals_bands = pd.concat([festivals_bands, dummies], axis=1)"
   ]
  },
  {
   "cell_type": "code",
   "execution_count": 100,
   "metadata": {},
   "outputs": [
    {
     "name": "stdout",
     "output_type": "stream",
     "text": [
      "Correct Vectorization of genres\n"
     ]
    }
   ],
   "source": [
    "# Check the number of genres in column 'num_genres' is equal to the sum of binary genres from dummies\n",
    "if sum(festivals_bands['num_genres'] - dummies.sum(axis=1)) == 0:\n",
    "    print('Correct Vectorization of genres')\n",
    "else:\n",
    "    print('Wrong Vectorization of genres')"
   ]
  },
  {
   "cell_type": "code",
   "execution_count": 101,
   "metadata": {},
   "outputs": [
    {
     "data": {
      "text/plain": [
       "Text(0.5,0,'Bands')"
      ]
     },
     "execution_count": 101,
     "metadata": {},
     "output_type": "execute_result"
    },
    {
     "data": {
      "image/png": "[encoded data removed]",
      "text/plain": [
       "<Figure size 1080x720 with 1 Axes>"
      ]
     },
     "metadata": {},
     "output_type": "display_data"
    }
   ],
   "source": [
    "# print matrix of genres\n",
    "fig = plt.figure(figsize=(15,10))\n",
    "ax = fig.add_subplot(1,1,1)\n",
    "#ax.set_aspect('equal')\n",
    "plt.imshow(dummies, interpolation='nearest', cmap=plt.cm.Greys)\n",
    "plt.title(festivals_names)\n",
    "plt.xlabel('Genres')\n",
    "plt.xlabel('Bands')"
   ]
  },
  {
   "cell_type": "markdown",
   "metadata": {},
   "source": [
    "## PCA to reduce dimensionality and print a scatter plot\n",
    "\n",
    "https://towardsdatascience.com/pca-using-python-scikit-learn-e653f8989e60"
   ]
  },
  {
   "cell_type": "code",
   "execution_count": 1,
   "metadata": {
    "scrolled": true
   },
   "outputs": [
    {
     "ename": "NameError",
     "evalue": "name 'festivals_bands' is not defined",
     "output_type": "error",
     "traceback": [
      "\u001b[0;31m---------------------------------------------------------------------------\u001b[0m",
      "\u001b[0;31mNameError\u001b[0m                                 Traceback (most recent call last)",
      "\u001b[0;32m<ipython-input-1-4c5a3066e2fd>\u001b[0m in \u001b[0;36m<module>\u001b[0;34m()\u001b[0m\n\u001b[1;32m      4\u001b[0m \u001b[0;34m\u001b[0m\u001b[0m\n\u001b[1;32m      5\u001b[0m \u001b[0;31m# separate the features of the rest of columns\u001b[0m\u001b[0;34m\u001b[0m\u001b[0;34m\u001b[0m\u001b[0m\n\u001b[0;32m----> 6\u001b[0;31m \u001b[0mx\u001b[0m \u001b[0;34m=\u001b[0m \u001b[0mfestivals_bands\u001b[0m\u001b[0;34m.\u001b[0m\u001b[0mloc\u001b[0m\u001b[0;34m[\u001b[0m\u001b[0;34m:\u001b[0m\u001b[0;34m,\u001b[0m \u001b[0mfestivals_genres\u001b[0m\u001b[0;34m]\u001b[0m\u001b[0;34m.\u001b[0m\u001b[0mvalues\u001b[0m\u001b[0;34m\u001b[0m\u001b[0m\n\u001b[0m\u001b[1;32m      7\u001b[0m \u001b[0;34m\u001b[0m\u001b[0m\n\u001b[1;32m      8\u001b[0m \u001b[0;31m# scale\u001b[0m\u001b[0;34m\u001b[0m\u001b[0;34m\u001b[0m\u001b[0m\n",
      "\u001b[0;31mNameError\u001b[0m: name 'festivals_bands' is not defined"
     ]
    }
   ],
   "source": [
    "# prepare the features x\n",
    "\n",
    "from sklearn.preprocessing import StandardScaler\n",
    "\n",
    "# separate the features of the rest of columns\n",
    "x = festivals_bands.loc[:, festivals_genres].values\n",
    "\n",
    "# scale\n",
    "x = StandardScaler().fit_transform(x)"
   ]
  },
  {
   "cell_type": "code",
   "execution_count": 103,
   "metadata": {},
   "outputs": [
    {
     "name": "stdout",
     "output_type": "stream",
     "text": [
      "Explained variance:  [0.05110257 0.03394762]\n"
     ]
    }
   ],
   "source": [
    "# Apply PCA\n",
    "\n",
    "from sklearn.decomposition import PCA\n",
    "pca = PCA(n_components=2)\n",
    "\n",
    "# get principal components \n",
    "principal_components = pca.fit_transform(x)\n",
    "\n",
    "# convert to dataframe\n",
    "pca_df = pd.DataFrame(principal_components, columns = ['pc1', 'pc2'])\n",
    "\n",
    "# merge principal components into main festival bands dataframe\n",
    "festivals_bands = pd.concat([festivals_bands, pca_df], axis=1)\n",
    "\n",
    "# print explained variance by each ratio\n",
    "print('Explained variance: ', pca.explained_variance_ratio_)"
   ]
  },
  {
   "cell_type": "code",
   "execution_count": 104,
   "metadata": {},
   "outputs": [
    {
     "data": {
      "image/png": "[encoded data removed]",
      "text/plain": [
       "<Figure size 576x576 with 1 Axes>"
      ]
     },
     "metadata": {},
     "output_type": "display_data"
    }
   ],
   "source": [
    "# scatter plot of the festivals\n",
    "\n",
    "fig = plt.figure(figsize = (8,8))\n",
    "ax = fig.add_subplot(1,1,1) \n",
    "ax.set_xlabel('Principal Component 1', fontsize = 15)\n",
    "ax.set_ylabel('Principal Component 2', fontsize = 15)\n",
    "ax.set_title('Festivals PCA', fontsize = 20)\n",
    "\n",
    "for festival, color in zip(festivals_names,festivals_colors):\n",
    "    indicesToKeep = festivals_bands['festival'] == festival\n",
    "    ax.scatter(festivals_bands.loc[indicesToKeep, 'pc1']\n",
    "               , festivals_bands.loc[indicesToKeep, 'pc2']\n",
    "               , c = color\n",
    "               , s = 50)\n",
    "ax.legend(festivals_names)\n",
    "ax.grid()"
   ]
  },
  {
   "cell_type": "markdown",
   "metadata": {},
   "source": [
    "## MCA (Multi Component analysis)\n",
    "\n",
    "https://stats.stackexchange.com/a/159758\n",
    "https://github.com/esafak/mca"
   ]
  },
  {
   "cell_type": "code",
   "execution_count": 15,
   "metadata": {},
   "outputs": [],
   "source": [
    "import mca\n",
    "mca_res = mca.MCA(festivals_bands[festivals_genres], benzecri=False, TOL=1e-4)"
   ]
  },
  {
   "cell_type": "code",
   "execution_count": null,
   "metadata": {},
   "outputs": [],
   "source": []
  },
  {
   "cell_type": "markdown",
   "metadata": {},
   "source": [
    "## Explore K-means to cluster bands"
   ]
  },
  {
   "cell_type": "code",
   "execution_count": 66,
   "metadata": {},
   "outputs": [],
   "source": []
  },
  {
   "cell_type": "code",
   "execution_count": null,
   "metadata": {},
   "outputs": [],
   "source": []
  },
  {
   "cell_type": "code",
   "execution_count": null,
   "metadata": {},
   "outputs": [],
   "source": []
  },
  {
   "cell_type": "markdown",
   "metadata": {},
   "source": [
    "## Explore Cosine Similarity to compute similarity between bands"
   ]
  },
  {
   "cell_type": "code",
   "execution_count": 105,
   "metadata": {},
   "outputs": [],
   "source": [
    "from sklearn.metrics.pairwise import cosine_similarity"
   ]
  },
  {
   "cell_type": "code",
   "execution_count": 106,
   "metadata": {},
   "outputs": [],
   "source": [
    "# compute cosine similarity matrix of bands\n",
    "csm = cosine_similarity(festivals_bands[festivals_genres])"
   ]
  },
  {
   "cell_type": "code",
   "execution_count": 111,
   "metadata": {},
   "outputs": [
    {
     "data": {
      "text/plain": [
       "Text(0.5,1,\"['bbk', 'al_rumbo', 'cruilla', 'sonar']\")"
      ]
     },
     "execution_count": 111,
     "metadata": {},
     "output_type": "execute_result"
    },
    {
     "data": {
      "image/png": "[encoded data removed]",
      "text/plain": [
       "<Figure size 1080x1080 with 2 Axes>"
      ]
     },
     "metadata": {},
     "output_type": "display_data"
    }
   ],
   "source": [
    "# plot matrix\n",
    "fig = plt.figure(figsize=[15,15])\n",
    "ax = fig.add_subplot(1,1,1)\n",
    "ax.set_aspect('equal')\n",
    "plt.imshow(csm, interpolation='nearest', cmap=plt.cm.Greys)\n",
    "plt.colorbar()\n",
    "plt.title(festivals_names)"
   ]
  },
  {
   "cell_type": "code",
   "execution_count": null,
   "metadata": {},
   "outputs": [],
   "source": []
  },
  {
   "cell_type": "code",
   "execution_count": null,
   "metadata": {},
   "outputs": [],
   "source": []
  }
 ],
 "metadata": {
  "kernelspec": {
   "display_name": "Python 3",
   "language": "python",
   "name": "python3"
  },
  "language_info": {
   "codemirror_mode": {
    "name": "ipython",
    "version": 3
   },
   "file_extension": ".py",
   "mimetype": "text/x-python",
   "name": "python",
   "nbconvert_exporter": "python",
   "pygments_lexer": "ipython3",
   "version": "3.5.2"
  }
 },
 "nbformat": 4,
 "nbformat_minor": 2
}
