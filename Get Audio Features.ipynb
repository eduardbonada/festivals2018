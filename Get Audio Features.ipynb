{
 "cells": [
  {
   "cell_type": "code",
   "execution_count": null,
   "metadata": {},
   "outputs": [],
   "source": [
    "# http://spotipy.readthedocs.io/en/latest/#api-reference\n",
    "# https://beta.developer.spotify.com/documentation/web-api/reference"
   ]
  },
  {
   "cell_type": "code",
   "execution_count": 227,
   "metadata": {},
   "outputs": [],
   "source": [
    "import json\n",
    "import pandas as pd\n",
    "import unicodedata\n",
    "from pprint import pprint\n",
    "import os.path\n",
    "import matplotlib.pyplot as plt\n",
    "%matplotlib inline\n",
    "plt.style.use('seaborn-deep')"
   ]
  },
  {
   "cell_type": "code",
   "execution_count": 4,
   "metadata": {},
   "outputs": [],
   "source": [
    "import spotipy\n",
    "from spotipy.oauth2 import SpotifyClientCredentials\n",
    "\n",
    "# Manage Authorization in Client Credentials mode\n",
    "client_credentials_manager = SpotifyClientCredentials(client_id='9b23e599c83f45d9a93e6559d79b3f4a', \\\n",
    "                                                      client_secret='710a69f7a7984a6c9c71c1682c46d7b5', \\\n",
    "                                                      proxies=None)\n",
    "sp = spotipy.Spotify(client_credentials_manager=client_credentials_manager)"
   ]
  },
  {
   "cell_type": "markdown",
   "metadata": {},
   "source": [
    "## Helper Functions"
   ]
  },
  {
   "cell_type": "code",
   "execution_count": 74,
   "metadata": {},
   "outputs": [],
   "source": [
    "def remove_accents(string):\n",
    "    \"\"\"\n",
    "    Removes the accents from the inout string\n",
    "    @param string String to remove accents from\n",
    "    @returns String without accents\n",
    "    \"\"\"\n",
    "    return ''.join((c for c in unicodedata.normalize('NFD', string) if unicodedata.category(c) != 'Mn'))"
   ]
  },
  {
   "cell_type": "code",
   "execution_count": 119,
   "metadata": {},
   "outputs": [],
   "source": [
    "def search_artist(band_name):\n",
    "    \"\"\"\n",
    "    Calls the Spotify API object and returns only one artist object\n",
    "    @param band_name String with the band name\n",
    "    @return Dictionary with the artist information\n",
    "    \"\"\"\n",
    "    \n",
    "    # list with band names whose name will be changed\n",
    "    manual_name_changes = {\n",
    "        'chk chk chk' : '!!!',\n",
    "        'other' : 'another'\n",
    "    };\n",
    "    \n",
    "    try:\n",
    "        # remove accents and make lowercase\n",
    "        band_name = remove_accents(band_name).lower()\n",
    "        \n",
    "        # call api\n",
    "        results = sp.search(q=band_name, limit=20, type='artist')\n",
    "        #print(\"{} => {} artists found\".format(band_name, len(results)))\n",
    "        \n",
    "        # some manual changes\n",
    "        if band_name in list(manual_name_changes.keys()):\n",
    "            band_name = manual_name_changes[band_name]\n",
    "\n",
    "        # return only one artist\n",
    "        if results['artists']['total'] > 0:\n",
    "            return [artist for artist in results['artists']['items'] if remove_accents(artist['name']).lower() == band_name][0]\n",
    "        else:\n",
    "            return []\n",
    "\n",
    "    except:\n",
    "        print('Error searching artist')\n",
    "        return []"
   ]
  },
  {
   "cell_type": "code",
   "execution_count": 98,
   "metadata": {},
   "outputs": [],
   "source": [
    "def get_albums_of_artist(artist_id):\n",
    "    \"\"\"\n",
    "    Gets the albums of the artist passed as argument\n",
    "    @param artist_id Id of the artist\n",
    "    @return Array of dictionaries, each one with the information of one album\n",
    "    \"\"\"\n",
    "    \n",
    "    albums = []\n",
    "    \n",
    "    # call API\n",
    "    results = sp.artist_albums(artist_id=artist['id'], album_type='album', limit=50)\n",
    "    \n",
    "    # store results in array\n",
    "    albums.extend(results['items'])\n",
    "\n",
    "    # get more albums while more results are available...\n",
    "    while results['next']:\n",
    "        results = sp.next(results)\n",
    "        albums.extend(results['items'])\n",
    "\n",
    "    # skip duplicate albums (by album name)\n",
    "    unique_albums = []\n",
    "    unique_names = set()\n",
    "    for album in albums:\n",
    "        name = album['name'].lower()\n",
    "        if not name in unique_names:  \n",
    "            unique_albums.append(album)\n",
    "            unique_names.add(name)\n",
    "    \n",
    "    return unique_albums"
   ]
  },
  {
   "cell_type": "code",
   "execution_count": 99,
   "metadata": {},
   "outputs": [],
   "source": [
    "def get_tracks_of_album(album_id):\n",
    "    \"\"\"\n",
    "    Gets the tracks of the album passed as argument\n",
    "    @param album_id Id of the album\n",
    "    @return Array of dictionaries, each one with the information of one track\n",
    "    \"\"\"\n",
    "    \n",
    "    tracks = []\n",
    "    \n",
    "    # call API\n",
    "    results = sp.album_tracks(album_id=album_id, limit=50)\n",
    "    \n",
    "    # store results in array\n",
    "    tracks.extend(results['items'])\n",
    "    \n",
    "    # get more tracks while more results are available...\n",
    "    while results['next']:\n",
    "        results = sp.next(results)\n",
    "        tracks.extend(results['items'])\n",
    "\n",
    "    return tracks"
   ]
  },
  {
   "cell_type": "code",
   "execution_count": 103,
   "metadata": {},
   "outputs": [],
   "source": [
    "def get_audio_features_of_tracks(track_ids):\n",
    "    \"\"\"\n",
    "    Gets the audio features of the tracks passed as argument\n",
    "    @param track_ids List of track ids\n",
    "    @return Array of dictionaries, each one with the information of one track\n",
    "    \"\"\"\n",
    "        \n",
    "    # call API\n",
    "    features = sp.audio_features(tracks=track_ids)\n",
    "\n",
    "    return features"
   ]
  },
  {
   "cell_type": "markdown",
   "metadata": {},
   "source": [
    "## Testing functions"
   ]
  },
  {
   "cell_type": "code",
   "execution_count": 92,
   "metadata": {},
   "outputs": [
    {
     "name": "stdout",
     "output_type": "stream",
     "text": [
      "arcade fire => 1 artists found\n"
     ]
    },
    {
     "data": {
      "text/plain": [
       "('Arcade Fire', 73, 1205487, 10)"
      ]
     },
     "execution_count": 92,
     "metadata": {},
     "output_type": "execute_result"
    }
   ],
   "source": [
    "artist = search_artist('ARCAdé fiRë')\n",
    "(artist['name'], artist['popularity'], artist['followers']['total'], len(artist['genres']))"
   ]
  },
  {
   "cell_type": "code",
   "execution_count": 95,
   "metadata": {},
   "outputs": [
    {
     "data": {
      "text/plain": [
       "[('Everything Now', '1DNojVW079FU9YnAMk3Cgr'),\n",
       " ('Reflektor (Deluxe)', '6kDCHWavDS2bNbtojhRjfJ'),\n",
       " ('Reflektor', '3Y2bjF2Jwocc0USbu08Y2I'),\n",
       " ('The Suburbs', '4s3p6n6KW72PfbicWARHuY'),\n",
       " ('The Suburbs (Deluxe Edition)', '4zJBuQXo92Q7QhA5U4V8kw'),\n",
       " ('Neon Bible', '7rncXz7PjaXTxyUfIcLaMT'),\n",
       " ('Funeral', '0Lu28wC62eXM4kr8DfUIKc')]"
      ]
     },
     "execution_count": 95,
     "metadata": {},
     "output_type": "execute_result"
    }
   ],
   "source": [
    "albums = get_albums_of_artist(artist['id'])\n",
    "album_ids = [album['id'] for album in albums]\n",
    "[(album['name'], album['id']) for album in albums]"
   ]
  },
  {
   "cell_type": "code",
   "execution_count": 101,
   "metadata": {},
   "outputs": [
    {
     "data": {
      "text/plain": [
       "[(1, 'Everything_Now (continued)', '2wXYAGCj2gA6biHi0W4xdJ'),\n",
       " (2, 'Everything Now', '7KsZHCfOitA5V9oQYVdltG'),\n",
       " (3, 'Signs of Life', '1g1RmSl6D0I6m6MEtDvxYn'),\n",
       " (4, 'Creature Comfort', '2voWPWlDfIthC6GUjaIQyV'),\n",
       " (5, 'Peter Pan', '0LOnyr7dtH8GQAVypvT98T'),\n",
       " (6, 'Chemistry', '7kIwVGX93RF6c8ZLKpeiNN'),\n",
       " (7, 'Infinite Content', '4bjPdsuv5zMINSxuaSm5QF'),\n",
       " (8, 'Infinite_Content', '3vxdRMOGm9bWFYTFOkhYpV'),\n",
       " (9, 'Electric Blue', '0KWcRXcnGoB0gWSu4mshF8'),\n",
       " (10, 'Good God Damn', '2ZssXuZfktUr4MMDzEWD2Z'),\n",
       " (11, 'Put Your Money on Me', '0SaEmR2rdtfsZawPjMYkWg'),\n",
       " (12, \"We Don't Deserve Love\", '0BP2o4rGe7nkQea1JOWMbl'),\n",
       " (13, 'Everything Now (continued)', '643ZDkyffqGWzkDTzSfMCM')]"
      ]
     },
     "execution_count": 101,
     "metadata": {},
     "output_type": "execute_result"
    }
   ],
   "source": [
    "tracks = get_tracks_of_album(album_ids[0])\n",
    "track_ids = [track['id'] for track in tracks]\n",
    "[(track['track_number'], track['name'], track['id']) for track in tracks]"
   ]
  },
  {
   "cell_type": "code",
   "execution_count": 107,
   "metadata": {},
   "outputs": [
    {
     "data": {
      "text/plain": [
       "{'acousticness': 0.0167,\n",
       " 'analysis_url': 'https://api.spotify.com/v1/audio-analysis/2wXYAGCj2gA6biHi0W4xdJ',\n",
       " 'danceability': 0.331,\n",
       " 'duration_ms': 46227,\n",
       " 'energy': 0.493,\n",
       " 'id': '2wXYAGCj2gA6biHi0W4xdJ',\n",
       " 'instrumentalness': 0.00157,\n",
       " 'key': 5,\n",
       " 'liveness': 0.589,\n",
       " 'loudness': -7.814,\n",
       " 'mode': 1,\n",
       " 'speechiness': 0.0394,\n",
       " 'tempo': 74.341,\n",
       " 'time_signature': 4,\n",
       " 'track_href': 'https://api.spotify.com/v1/tracks/2wXYAGCj2gA6biHi0W4xdJ',\n",
       " 'type': 'audio_features',\n",
       " 'uri': 'spotify:track:2wXYAGCj2gA6biHi0W4xdJ',\n",
       " 'valence': 0.19}"
      ]
     },
     "execution_count": 107,
     "metadata": {},
     "output_type": "execute_result"
    }
   ],
   "source": [
    "tracks_features = get_audio_features_of_tracks(track_ids)\n",
    "tracks_features[0]"
   ]
  },
  {
   "cell_type": "markdown",
   "metadata": {},
   "source": [
    "## Get audio features of all tracks of all albums of an artist"
   ]
  },
  {
   "cell_type": "code",
   "execution_count": 274,
   "metadata": {},
   "outputs": [
    {
     "name": "stdout",
     "output_type": "stream",
     "text": [
      "6 artists read - 594 tracks read\n"
     ]
    }
   ],
   "source": [
    "# read from file if already downloaded\n",
    "tracks_full_info = []\n",
    "artists_read = []\n",
    "if os.path.isfile('tracks_full_info.json'):\n",
    "    json_data=open('tracks_full_info.json').read()\n",
    "    tracks_full_info = json.loads(json_data)\n",
    "    artists_read = set([a['artist_name'] for a in tracks_full_info])\n",
    "    print(\"{} artists read - {} tracks read\".format(len(artists_read),len(tracks_full_info)))"
   ]
  },
  {
   "cell_type": "code",
   "execution_count": 275,
   "metadata": {},
   "outputs": [],
   "source": [
    "artists_to_search = ['Els Amics de les Arts']"
   ]
  },
  {
   "cell_type": "code",
   "execution_count": 276,
   "metadata": {},
   "outputs": [
    {
     "name": "stdout",
     "output_type": "stream",
     "text": [
      "Els Amics De Les Arts\n",
      "   Un Estrany Poder\n",
      "   Espècies per Catalogar\n",
      "   10 Anys\n",
      "   Bed & Breakfast (Edició Especial)\n",
      "   Bed & Breakfast\n",
      "   Només d'Entrar Hi Ha Sempre el Dinosaure\n",
      "   Tenim Dret a Fer l'Animal (En Directe)\n"
     ]
    }
   ],
   "source": [
    "# get audio features of all tracks of all albums of all artists\n",
    "for ats in artists_to_search:\n",
    "    \n",
    "    # if the artist is already in the tracks info, skip it\n",
    "    if(ats in artists_read):\n",
    "        continue\n",
    "    \n",
    "    # get artist\n",
    "    artist = search_artist(ats)\n",
    "    print(artist['name'])\n",
    "    \n",
    "    # get albums\n",
    "    albums = get_albums_of_artist(artist['id'])\n",
    "    \n",
    "    # get tracks and audio features of tracks\n",
    "    for album in albums:\n",
    "\n",
    "        print('  ',album['name'])\n",
    "        \n",
    "        # get tracks info\n",
    "        tracks = get_tracks_of_album(album['id'])\n",
    "        track_ids = [track['id'] for track in tracks]\n",
    "                \n",
    "        # get tracks audio features\n",
    "        tracks_features = get_audio_features_of_tracks(track_ids)\n",
    "        \n",
    "        # compile track, album and artist information\n",
    "        for track in tracks_features:\n",
    "            \n",
    "            # look for corresponding track    \n",
    "            track_info = next((t for t in tracks if t['id'] == track['id']), None)\n",
    "\n",
    "            #print('    ',track_info['name'])\n",
    "            \n",
    "            # add track info to json with features\n",
    "            track['duration_ms']  = track_info['duration_ms'];\n",
    "            track['explicit']     = track_info['explicit'];\n",
    "            track['name']         = track_info['name'];\n",
    "            track['track_number'] = track_info['track_number'];\n",
    "\n",
    "            # add album info to json with features\n",
    "            track['album_id']           = album['id'];\n",
    "            track['album_name']         = album['name'];\n",
    "            track['album_release_date'] = album['release_date'];\n",
    "\n",
    "            # add album info to json with features\n",
    "            track['artist_id']         = artist['id'];\n",
    "            track['artist_name']       = artist['name'];\n",
    "            track['artist_followers']  = artist['followers']['total'];\n",
    "            track['artist_popularity'] = artist['popularity'];\n",
    "\n",
    "            tracks_full_info.append(track)"
   ]
  },
  {
   "cell_type": "code",
   "execution_count": 277,
   "metadata": {},
   "outputs": [],
   "source": [
    "# persist tracks downloaded\n",
    "with open('tracks_full_info.json', 'w') as fp:\n",
    "    json.dump(tracks_full_info, fp)"
   ]
  },
  {
   "cell_type": "markdown",
   "metadata": {},
   "source": [
    "## Analysis"
   ]
  },
  {
   "cell_type": "code",
   "execution_count": 281,
   "metadata": {},
   "outputs": [],
   "source": [
    "# Create pandas dataframe\n",
    "tracks = pd.DataFrame.from_dict(tracks_full_info).drop(['analysis_url', 'album_id', 'artist_id', 'track_href', 'uri', 'type', 'id'], 1)"
   ]
  },
  {
   "cell_type": "code",
   "execution_count": 279,
   "metadata": {},
   "outputs": [],
   "source": [
    "# reorder columns\n",
    "tracks = tracks[['artist_name', 'artist_popularity','artist_followers',\\\n",
    "        'album_name', 'album_release_date',\\\n",
    "        'name','track_number',\\\n",
    "        'explicit','duration_ms','acousticness', 'danceability', 'energy', 'instrumentalness', 'key', \\\n",
    "        'liveness','loudness', 'mode', 'speechiness', 'tempo', 'time_signature', 'valence']]"
   ]
  },
  {
   "cell_type": "code",
   "execution_count": 283,
   "metadata": {
    "scrolled": false
   },
   "outputs": [
    {
     "name": "stderr",
     "output_type": "stream",
     "text": [
      "/home/eduard/.local/lib/python3.5/site-packages/numpy/core/fromnumeric.py:52: FutureWarning: reshape is deprecated and will raise in a subsequent release. Please use .values.reshape(...) instead\n",
      "  return getattr(obj, method)(*args, **kwds)\n"
     ]
    },
    {
     "data": {
      "image/png": "[encoded data removed]",
      "text/plain": [
       "<Figure size 1440x1440 with 12 Axes>"
      ]
     },
     "metadata": {},
     "output_type": "display_data"
    }
   ],
   "source": [
    "# compare two artists plotting histograms of each feature\n",
    "\n",
    "artists_to_compare = ['Pau Vallvé', 'Els Amics De Les Arts']\n",
    "\n",
    "features = ['acousticness','danceability','energy','instrumentalness','key','liveness',\\\n",
    "            'loudness', 'mode', 'speechiness', 'tempo', 'time_signature', 'valence']\n",
    "\n",
    "tracks_A = tracks[tracks['artist_name'] == artists_to_compare[0]]\n",
    "tracks_B = tracks[tracks['artist_name'] == artists_to_compare[1]]\n",
    "\n",
    "# plot with matplotlib\n",
    "f, ax = plt.subplots(4,3)\n",
    "f.set_figheight(20)\n",
    "f.set_figwidth(20)\n",
    "i=0; j=0; # init at top-left subplot\n",
    "for f in features:\n",
    "    ax[i,j].hist([tracks_A[f], tracks_B[f]], bins=10, density=True, label=[artists_to_compare[0], artists_to_compare[1]])\n",
    "    ax[i,j].set_title(f)\n",
    "    ax[i,j].legend(loc='upper right')\n",
    "    j=j+1; # next col subplot\n",
    "    if(j==3):\n",
    "        # if last col subplot\n",
    "        j=0; # first col subplot\n",
    "        i=i+1; # next row subplot"
   ]
  },
  {
   "cell_type": "code",
   "execution_count": null,
   "metadata": {},
   "outputs": [],
   "source": []
  },
  {
   "cell_type": "code",
   "execution_count": null,
   "metadata": {},
   "outputs": [],
   "source": []
  }
 ],
 "metadata": {
  "kernelspec": {
   "display_name": "Python 3",
   "language": "python",
   "name": "python3"
  },
  "language_info": {
   "codemirror_mode": {
    "name": "ipython",
    "version": 3
   },
   "file_extension": ".py",
   "mimetype": "text/x-python",
   "name": "python",
   "nbconvert_exporter": "python",
   "pygments_lexer": "ipython3",
   "version": "3.5.2"
  }
 },
 "nbformat": 4,
 "nbformat_minor": 2
}
